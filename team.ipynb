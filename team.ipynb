{
  "cells": [
    {
      "cell_type": "raw",
      "metadata": {},
      "source": [
        "---\n",
        "title: Our Team\n",
        "listing:\n",
        "  - id: list-org\n",
        "    template: templates/organisers.ejs\n",
        "    contents:\n",
        "      - data/organisers.yml\n",
        "  - id: list-rev\n",
        "    template: templates/reviewers.ejs\n",
        "    contents:\n",
        "      - data/reviewers.yml\n",
        "execute:\n",
        "  echo: false\n",
        "  cache: false\n",
        "  eval: true\n",
        "  include: false\n",
        "---"
      ],
      "id": "f832f726"
    },
    {
      "cell_type": "code",
      "metadata": {},
      "source": [
        "from utils import yml_reviewers\n",
        "yml_reviewers()"
      ],
      "id": "f7f72f16",
      "execution_count": null,
      "outputs": []
    },
    {
      "cell_type": "markdown",
      "metadata": {},
      "source": [
        "## Organisers\n",
        "\n",
        "::: {#list-org}\n",
        ":::\n",
        "\n",
        "## Reviewers\n",
        "\n",
        "::: {#list-rev}\n",
        ":::"
      ],
      "id": "101dec7b"
    }
  ],
  "metadata": {
    "kernelspec": {
      "display_name": "Python 3",
      "language": "python",
      "name": "python3"
    }
  },
  "nbformat": 4,
  "nbformat_minor": 5
}