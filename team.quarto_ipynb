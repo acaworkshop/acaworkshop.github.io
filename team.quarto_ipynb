{
  "cells": [
    {
      "cell_type": "markdown",
      "metadata": {},
      "source": [
        "---\n",
        "listing:\n",
        "    - id: list-org\n",
        "      template: templates/organisers.ejs\n",
        "      contents:\n",
        "        - data/organisers.yml\n",
        "    - id: list-rev\n",
        "      template: templates/reviewers.ejs\n",
        "      contents:\n",
        "        - data/reviewers.yml\n",
        "execute: \n",
        "  echo: false\n",
        "  cache: false\n",
        "  eval: true\n",
        "  include: false\n",
        "jupyter: python3\n",
        "---"
      ],
      "id": "04e2f0a8"
    },
    {
      "cell_type": "code",
      "metadata": {},
      "source": [
        "from utils import yml_reviewers\n",
        "yml_reviewers()"
      ],
      "id": "b1a00b4b",
      "execution_count": null,
      "outputs": []
    },
    {
      "cell_type": "markdown",
      "metadata": {},
      "source": [
        "## Organisers\n",
        "\n",
        "::: {#list-org}\n",
        ":::\n",
        "\n",
        "## Reviewers\n",
        "\n",
        "::: {#list-rev}\n",
        ":::"
      ],
      "id": "199c46bb"
    }
  ],
  "metadata": {
    "kernelspec": {
      "name": "python3",
      "language": "python",
      "display_name": "Python 3 (ipykernel)",
      "path": "/Users/meghanabhange/Documents/projects/acaworkshop.github.io/venv/share/jupyter/kernels/python3"
    }
  },
  "nbformat": 4,
  "nbformat_minor": 5
}